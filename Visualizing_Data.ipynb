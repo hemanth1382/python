{
 "cells": [
  {
   "cell_type": "markdown",
   "id": "cae58ec7",
   "metadata": {},
   "source": [
    "# Visualizing Data\n"
   ]
  },
  {
   "cell_type": "markdown",
   "id": "d4502456",
   "metadata": {},
   "source": [
    "### Bar Charts\n",
    "### A bar chart is a good choice when you want to show how some quantity varies amongsome discrete set of items."
   ]
  },
  {
   "cell_type": "code",
   "execution_count": 1,
   "id": "a5cfb0f3",
   "metadata": {},
   "outputs": [],
   "source": [
    "movies=['endgame','infiwar','thor','loki']\n",
    "no_of=[2,3,1,5]\n",
    "\n",
    "\n"
   ]
  },
  {
   "cell_type": "code",
   "execution_count": 2,
   "id": "9ff321cf",
   "metadata": {},
   "outputs": [],
   "source": [
    "from matplotlib import pyplot as plt\n"
   ]
  },
  {
   "cell_type": "code",
   "execution_count": 7,
   "id": "e52c41a8",
   "metadata": {},
   "outputs": [
    {
     "data": {
      "image/png": "[encoded data removed]",
      "text/plain": [
       "<Figure size 432x288 with 1 Axes>"
      ]
     },
     "metadata": {
      "needs_background": "light"
     },
     "output_type": "display_data"
    }
   ],
   "source": [
    "plt.bar(movies,no_of)\n",
    "plt.ylabel(\"no of awards\")\n",
    "plt.xlabel(\"movie\")\n",
    "plt.show()"
   ]
  },
  {
   "cell_type": "code",
   "execution_count": null,
   "id": "d116fd58",
   "metadata": {},
   "outputs": [],
   "source": []
  }
 ],
 "metadata": {
  "kernelspec": {
   "display_name": "Python 3 (ipykernel)",
   "language": "python",
   "name": "python3"
  },
  "language_info": {
   "codemirror_mode": {
    "name": "ipython",
    "version": 3
   },
   "file_extension": ".py",
   "mimetype": "text/x-python",
   "name": "python",
   "nbconvert_exporter": "python",
   "pygments_lexer": "ipython3",
   "version": "3.8.10"
  }
 },
 "nbformat": 4,
 "nbformat_minor": 5
}
