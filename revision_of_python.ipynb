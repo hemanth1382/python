{
 "cells": [
  {
   "cell_type": "markdown",
   "id": "6eccf099",
   "metadata": {},
   "source": [
    "# for loop "
   ]
  },
  {
   "cell_type": "markdown",
   "id": "29817b10",
   "metadata": {},
   "source": [
    "## it is same as for in any other lang \n",
    "\n",
    "## mainly used for iterating over a sequence  ex:list, a tuple, a dictionary, a set, or a string"
   ]
  },
  {
   "cell_type": "code",
   "execution_count": 4,
   "id": "7cf22d50",
   "metadata": {},
   "outputs": [
    {
     "name": "stdout",
     "output_type": "stream",
     "text": [
      "h\n",
      "e\n",
      "l\n",
      "l\n",
      "o\n"
     ]
    }
   ],
   "source": [
    "# for loop for string \n",
    "for i in \"hello\":\n",
    "    print(i)"
   ]
  },
  {
   "cell_type": "code",
   "execution_count": 14,
   "id": "a93fb3ac",
   "metadata": {},
   "outputs": [
    {
     "name": "stdout",
     "output_type": "stream",
     "text": [
      "hello\n",
      "welcome\n",
      "to\n",
      "python3\n"
     ]
    }
   ],
   "source": [
    "# for loop in list\n",
    "for i in [\"hello\",\"welcome\",\"to\",\"python3\"]:\n",
    "    print(i)"
   ]
  },
  {
   "cell_type": "markdown",
   "id": "ac320301",
   "metadata": {},
   "source": [
    "# break and continue has same usage"
   ]
  },
  {
   "cell_type": "markdown",
   "id": "8615a222",
   "metadata": {},
   "source": [
    "# range() is a function which returns a sequence of numbers"
   ]
  },
  {
   "cell_type": "code",
   "execution_count": 7,
   "id": "bb1892be",
   "metadata": {
    "scrolled": true
   },
   "outputs": [
    {
     "name": "stdout",
     "output_type": "stream",
     "text": [
      "0\n",
      "1\n",
      "2\n",
      "3\n",
      "4\n"
     ]
    }
   ],
   "source": [
    "for i in range(5):\n",
    "    print(i)"
   ]
  },
  {
   "cell_type": "markdown",
   "id": "895bca38",
   "metadata": {},
   "source": [
    "# fuctions"
   ]
  },
  {
   "cell_type": "code",
   "execution_count": 10,
   "id": "e76f7027",
   "metadata": {},
   "outputs": [
    {
     "name": "stdout",
     "output_type": "stream",
     "text": [
      "8\n"
     ]
    }
   ],
   "source": [
    "def double(x):\n",
    "    return x*2\n",
    "print(double(4))"
   ]
  },
  {
   "cell_type": "code",
   "execution_count": 12,
   "id": "1831c71b",
   "metadata": {},
   "outputs": [
    {
     "name": "stdout",
     "output_type": "stream",
     "text": [
      "4\n"
     ]
    }
   ],
   "source": [
    "my_double=double\n",
    "def passing_fun_as_par(x):\n",
    "    return x(2)\n",
    "print(passing_fun_as_par(my_double))"
   ]
  },
  {
   "cell_type": "markdown",
   "id": "7ead920c",
   "metadata": {},
   "source": [
    "### in above ex we are passing function as var "
   ]
  },
  {
   "cell_type": "markdown",
   "id": "63ee582b",
   "metadata": {},
   "source": [
    "# lists"
   ]
  },
  {
   "cell_type": "markdown",
   "id": "97647a3c",
   "metadata": {},
   "source": [
    "# It is similar to what in other languages might be called an array, but with some added functionality"
   ]
  },
  {
   "cell_type": "markdown",
   "id": "048bed78",
   "metadata": {},
   "source": [
    "## Lists are one of 4 built-in data types in Python used to store collections of data, the other 3 are Tuple, Set, and Dictionary, all with different qualities and usage."
   ]
  },
  {
   "cell_type": "markdown",
   "id": "ee58074e",
   "metadata": {},
   "source": [
    "## Lists are created using square brackets:"
   ]
  },
  {
   "cell_type": "code",
   "execution_count": 15,
   "id": "037acd64",
   "metadata": {},
   "outputs": [
    {
     "name": "stdout",
     "output_type": "stream",
     "text": [
      "['hello', 'hemanht', 'naik']\n"
     ]
    }
   ],
   "source": [
    "this_list=['hello','hemanht','naik']\n",
    "print(this_list)"
   ]
  },
  {
   "cell_type": "markdown",
   "id": "944f04e2",
   "metadata": {},
   "source": [
    "## List items are ordered, changeable, and allow duplicate values. \n",
    "## len() is funtion for cal the length of list"
   ]
  },
  {
   "cell_type": "code",
   "execution_count": 16,
   "id": "e037b561",
   "metadata": {},
   "outputs": [
    {
     "name": "stdout",
     "output_type": "stream",
     "text": [
      "3\n"
     ]
    }
   ],
   "source": [
    "print(len(this_list))"
   ]
  },
  {
   "cell_type": "code",
   "execution_count": null,
   "id": "d9750f26",
   "metadata": {},
   "outputs": [],
   "source": []
  }
 ],
 "metadata": {
  "kernelspec": {
   "display_name": "Python 3 (ipykernel)",
   "language": "python",
   "name": "python3"
  },
  "language_info": {
   "codemirror_mode": {
    "name": "ipython",
    "version": 3
   },
   "file_extension": ".py",
   "mimetype": "text/x-python",
   "name": "python",
   "nbconvert_exporter": "python",
   "pygments_lexer": "ipython3",
   "version": "3.8.10"
  }
 },
 "nbformat": 4,
 "nbformat_minor": 5
}
