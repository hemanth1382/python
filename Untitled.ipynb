{
 "cells": [
  {
   "cell_type": "code",
   "execution_count": 1,
   "id": "192704cb-851d-4465-8f98-eaf3adec3219",
   "metadata": {},
   "outputs": [],
   "source": [
    "import pandas "
   ]
  },
  {
   "cell_type": "code",
   "execution_count": 2,
   "id": "ae839f93",
   "metadata": {},
   "outputs": [],
   "source": [
    "import pandas as pd         #this is the alias so that we will get new name and access with that name\n"
   ]
  },
  {
   "cell_type": "code",
   "execution_count": 3,
   "id": "253f332a",
   "metadata": {},
   "outputs": [],
   "source": [
    "import re\n"
   ]
  },
  {
   "cell_type": "code",
   "execution_count": 4,
   "id": "f8f3e401",
   "metadata": {},
   "outputs": [
    {
     "name": "stdout",
     "output_type": "stream",
     "text": [
      "2.5\n"
     ]
    }
   ],
   "source": [
    "print(5/2)"
   ]
  },
  {
   "cell_type": "code",
   "execution_count": 5,
   "id": "0e2444af",
   "metadata": {},
   "outputs": [
    {
     "name": "stdout",
     "output_type": "stream",
     "text": [
      "2\n"
     ]
    }
   ],
   "source": [
    "print(5//2)"
   ]
  },
  {
   "cell_type": "code",
   "execution_count": 6,
   "id": "1f3bece7",
   "metadata": {},
   "outputs": [
    {
     "data": {
      "text/plain": [
       "4"
      ]
     },
     "execution_count": 6,
     "metadata": {},
     "output_type": "execute_result"
    }
   ],
   "source": [
    "def mul(x):\n",
    "    return x*2              #funcions in python are first calss functions\n",
    "mul(2)"
   ]
  },
  {
   "cell_type": "code",
   "execution_count": 7,
   "id": "8d513703",
   "metadata": {},
   "outputs": [],
   "source": [
    "def test(mul):\n",
    "    x=int(input())\n",
    "    return mul(x)/2\n",
    "    "
   ]
  },
  {
   "cell_type": "code",
   "execution_count": 8,
   "id": "72304573",
   "metadata": {},
   "outputs": [
    {
     "name": "stdout",
     "output_type": "stream",
     "text": [
      "6\n",
      "66\n"
     ]
    }
   ],
   "source": [
    "a=input()\n",
    "print(mul(a))"
   ]
  },
  {
   "cell_type": "code",
   "execution_count": 9,
   "id": "7157b607",
   "metadata": {},
   "outputs": [
    {
     "name": "stdout",
     "output_type": "stream",
     "text": [
      "10\n"
     ]
    }
   ],
   "source": [
    "k=mul(5)\n",
    "print(k)"
   ]
  },
  {
   "cell_type": "code",
   "execution_count": 10,
   "id": "a956d030",
   "metadata": {},
   "outputs": [],
   "source": [
    "k=mul(a)"
   ]
  },
  {
   "cell_type": "markdown",
   "id": "4d491b98",
   "metadata": {},
   "source": [
    "# find why output is 66"
   ]
  },
  {
   "cell_type": "code",
   "execution_count": 11,
   "id": "35c95348",
   "metadata": {},
   "outputs": [
    {
     "name": "stdout",
     "output_type": "stream",
     "text": [
      "66\n"
     ]
    }
   ],
   "source": [
    "print(k)"
   ]
  },
  {
   "cell_type": "code",
   "execution_count": 12,
   "id": "ae41e936",
   "metadata": {},
   "outputs": [
    {
     "name": "stdout",
     "output_type": "stream",
     "text": [
      "6\n"
     ]
    }
   ],
   "source": [
    "print(a)"
   ]
  },
  {
   "cell_type": "code",
   "execution_count": 13,
   "id": "20e39449",
   "metadata": {},
   "outputs": [
    {
     "name": "stdout",
     "output_type": "stream",
     "text": [
      "3\n"
     ]
    },
    {
     "data": {
      "text/plain": [
       "3.0"
      ]
     },
     "execution_count": 13,
     "metadata": {},
     "output_type": "execute_result"
    }
   ],
   "source": [
    "test(mul)"
   ]
  },
  {
   "cell_type": "code",
   "execution_count": 14,
   "id": "da09803d",
   "metadata": {},
   "outputs": [
    {
     "name": "stdout",
     "output_type": "stream",
     "text": [
      "10\n",
      "2\n",
      "3\n",
      "4\n",
      "5\n",
      "6\n"
     ]
    }
   ],
   "source": [
    "def replace(arr):\n",
    "    arr[0]=10\n",
    "arr=[1,2,3,4,5,6]\n",
    "replace(arr)\n",
    "for i in arr:\n",
    "    print(i)"
   ]
  },
  {
   "cell_type": "markdown",
   "id": "777b0740",
   "metadata": {},
   "source": [
    "# find the output"
   ]
  },
  {
   "cell_type": "code",
   "execution_count": 15,
   "id": "22150849",
   "metadata": {},
   "outputs": [
    {
     "name": "stdout",
     "output_type": "stream",
     "text": [
      "20\n"
     ]
    }
   ],
   "source": [
    "def temp(x):\n",
    "    x=10\n",
    "x=20\n",
    "print(x)"
   ]
  },
  {
   "cell_type": "code",
   "execution_count": 18,
   "id": "d0bab925",
   "metadata": {},
   "outputs": [],
   "source": [
    "def hello(x):\n",
    "    return int(x)*3\n",
    "a=hello(2)"
   ]
  },
  {
   "cell_type": "code",
   "execution_count": 19,
   "id": "48ce84f1",
   "metadata": {},
   "outputs": [
    {
     "name": "stdout",
     "output_type": "stream",
     "text": [
      "6\n"
     ]
    }
   ],
   "source": [
    "print(a)"
   ]
  },
  {
   "cell_type": "code",
   "execution_count": 21,
   "id": "39eb9b66",
   "metadata": {},
   "outputs": [
    {
     "name": "stdout",
     "output_type": "stream",
     "text": [
      "6\n",
      "18\n"
     ]
    }
   ],
   "source": [
    "a=int(input())\n",
    "print(hello(a))"
   ]
  },
  {
   "cell_type": "code",
   "execution_count": 22,
   "id": "9e4da9c9",
   "metadata": {},
   "outputs": [
    {
     "data": {
      "text/plain": [
       "36"
      ]
     },
     "execution_count": 22,
     "metadata": {},
     "output_type": "execute_result"
    }
   ],
   "source": [
    "hello(mul(a))"
   ]
  },
  {
   "cell_type": "code",
   "execution_count": 23,
   "id": "9ba04771",
   "metadata": {},
   "outputs": [],
   "source": [
    "k=\"\"\"hello\n",
    "hemanht \n",
    "naik\"\"\""
   ]
  },
  {
   "cell_type": "code",
   "execution_count": 24,
   "id": "c5a4bd64",
   "metadata": {},
   "outputs": [
    {
     "name": "stdout",
     "output_type": "stream",
     "text": [
      "hello\n",
      "hemanht \n",
      "naik\n"
     ]
    }
   ],
   "source": [
    "print(k)"
   ]
  },
  {
   "cell_type": "code",
   "execution_count": null,
   "id": "41dce0f7",
   "metadata": {},
   "outputs": [],
   "source": []
  },
  {
   "cell_type": "code",
   "execution_count": null,
   "id": "d698b754",
   "metadata": {},
   "outputs": [],
   "source": []
  }
 ],
 "metadata": {
  "kernelspec": {
   "display_name": "Python 3 (ipykernel)",
   "language": "python",
   "name": "python3"
  },
  "language_info": {
   "codemirror_mode": {
    "name": "ipython",
    "version": 3
   },
   "file_extension": ".py",
   "mimetype": "text/x-python",
   "name": "python",
   "nbconvert_exporter": "python",
   "pygments_lexer": "ipython3",
   "version": "3.8.10"
  }
 },
 "nbformat": 4,
 "nbformat_minor": 5
}
