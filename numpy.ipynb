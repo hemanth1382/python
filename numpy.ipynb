{
 "cells": [
  {
   "cell_type": "code",
   "execution_count": 1,
   "id": "a833711d-d92c-42ec-a429-5bd72c86417d",
   "metadata": {},
   "outputs": [],
   "source": [
    "import numpy as np\n"
   ]
  },
  {
   "cell_type": "markdown",
   "id": "7e7551f9-bc29-4bb1-ae65-3750c33fb5be",
   "metadata": {},
   "source": [
    "# list is for making empty list "
   ]
  },
  {
   "cell_type": "code",
   "execution_count": 2,
   "id": "98e86f16-4d12-48b3-9fd0-aefe2b7fc1af",
   "metadata": {},
   "outputs": [],
   "source": [
    "my_list=list()"
   ]
  },
  {
   "cell_type": "code",
   "execution_count": 3,
   "id": "a9037197-7eec-4271-b38b-796fbbe7bfb9",
   "metadata": {},
   "outputs": [
    {
     "data": {
      "text/plain": [
       "[]"
      ]
     },
     "execution_count": 3,
     "metadata": {},
     "output_type": "execute_result"
    }
   ],
   "source": [
    "my_list\n"
   ]
  },
  {
   "cell_type": "code",
   "execution_count": 4,
   "id": "355aa42b-a5d8-48bf-a522-08fd1a0b50d7",
   "metadata": {},
   "outputs": [],
   "source": [
    "my_list=[1,2,3,6,7]"
   ]
  },
  {
   "cell_type": "markdown",
   "id": "4387598d-54bf-4e70-9057-6b4ab9bb2663",
   "metadata": {},
   "source": [
    "# array fuction is used for making arr"
   ]
  },
  {
   "cell_type": "code",
   "execution_count": 5,
   "id": "dbdd47f3-a01d-47cd-99fd-d452b390a834",
   "metadata": {},
   "outputs": [],
   "source": [
    "arr=np.array(my_list)"
   ]
  },
  {
   "cell_type": "code",
   "execution_count": 6,
   "id": "ef5ff26e-30fe-420c-9bf9-8d2d5c966a3e",
   "metadata": {},
   "outputs": [
    {
     "data": {
      "text/plain": [
       "array([1, 2, 3, 6, 7])"
      ]
     },
     "execution_count": 6,
     "metadata": {},
     "output_type": "execute_result"
    }
   ],
   "source": [
    "arr"
   ]
  },
  {
   "cell_type": "code",
   "execution_count": 7,
   "id": "fc5b5570-b1c4-42b7-b5ee-4697ced27b55",
   "metadata": {},
   "outputs": [],
   "source": [
    "my1=[1,2,3]\n",
    "my2=[4,5,6]\n",
    "my3=[7,8,9]\n",
    "\n",
    "arr=np.array([my1,my2,my3])"
   ]
  },
  {
   "cell_type": "code",
   "execution_count": 8,
   "id": "5e79128a-ca48-465c-aed6-d66d5e48e9d8",
   "metadata": {},
   "outputs": [
    {
     "data": {
      "text/plain": [
       "array([[1, 2, 3],\n",
       "       [4, 5, 6],\n",
       "       [7, 8, 9]])"
      ]
     },
     "execution_count": 8,
     "metadata": {},
     "output_type": "execute_result"
    }
   ],
   "source": [
    "arr"
   ]
  },
  {
   "cell_type": "markdown",
   "id": "323f95b1-2219-4187-90cb-e76535692330",
   "metadata": {
    "tags": []
   },
   "source": [
    "# in reshape we have to take care that total numbers are same"
   ]
  },
  {
   "cell_type": "code",
   "execution_count": 9,
   "id": "ac59b0ad-eab9-477f-8612-13aa3a5e6df1",
   "metadata": {},
   "outputs": [
    {
     "ename": "ValueError",
     "evalue": "cannot reshape array of size 9 into shape (2,2)",
     "output_type": "error",
     "traceback": [
      "\u001b[0;31m---------------------------------------------------------------------------\u001b[0m",
      "\u001b[0;31mValueError\u001b[0m                                Traceback (most recent call last)",
      "\u001b[0;32m/tmp/ipykernel_8374/1095510023.py\u001b[0m in \u001b[0;36m<module>\u001b[0;34m\u001b[0m\n\u001b[0;32m----> 1\u001b[0;31m \u001b[0marr\u001b[0m\u001b[0;34m.\u001b[0m\u001b[0mreshape\u001b[0m\u001b[0;34m(\u001b[0m\u001b[0;36m2\u001b[0m\u001b[0;34m,\u001b[0m\u001b[0;36m2\u001b[0m\u001b[0;34m)\u001b[0m\u001b[0;34m\u001b[0m\u001b[0;34m\u001b[0m\u001b[0m\n\u001b[0m",
      "\u001b[0;31mValueError\u001b[0m: cannot reshape array of size 9 into shape (2,2)"
     ]
    }
   ],
   "source": [
    "arr.reshape(2,2)"
   ]
  },
  {
   "cell_type": "code",
   "execution_count": null,
   "id": "94e8b1d5-37e9-4770-9721-eec8cc0b247a",
   "metadata": {},
   "outputs": [],
   "source": []
  }
 ],
 "metadata": {
  "kernelspec": {
   "display_name": "Python 3 (ipykernel)",
   "language": "python",
   "name": "python3"
  },
  "language_info": {
   "codemirror_mode": {
    "name": "ipython",
    "version": 3
   },
   "file_extension": ".py",
   "mimetype": "text/x-python",
   "name": "python",
   "nbconvert_exporter": "python",
   "pygments_lexer": "ipython3",
   "version": "3.8.10"
  }
 },
 "nbformat": 4,
 "nbformat_minor": 5
}
